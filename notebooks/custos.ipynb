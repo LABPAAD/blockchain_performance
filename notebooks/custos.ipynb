{
  "nbformat": 4,
  "nbformat_minor": 0,
  "metadata": {
    "colab": {
      "name": "custos.ipynb",
      "provenance": [],
      "collapsed_sections": []
    },
    "kernelspec": {
      "name": "python3",
      "display_name": "Python 3"
    },
    "language_info": {
      "name": "python"
    }
  },
  "cells": [
    {
      "cell_type": "code",
      "execution_count": null,
      "metadata": {
        "id": "PYZQo-XU4Hdy"
      },
      "outputs": [],
      "source": [
        "import matplotlib.pyplot as plt\n",
        "import pandas as pd\n",
        "import math\n",
        "import numpy as np"
      ]
    },
    {
      "cell_type": "code",
      "source": [
        "data = pd.read_csv(\"custos_eth.csv\")"
      ],
      "metadata": {
        "id": "gv_50WJO4Mw7"
      },
      "execution_count": null,
      "outputs": []
    },
    {
      "cell_type": "code",
      "source": [
        "data2 = pd.read_csv('custos_hf - Página1.csv')\n",
        "data2['Infra-Ideal'] = data2['Infra-Ideal'].str.replace('[A-Za-z]', '').str.replace(',', '.').astype(float)\n",
        "infra_ideal = data2['Infra-Ideal'].tolist()"
      ],
      "metadata": {
        "colab": {
          "base_uri": "https://localhost:8080/"
        },
        "id": "SBOdxrRURqqm",
        "outputId": "e998f596-cff1-49a2-ea43-98e06d7746a9"
      },
      "execution_count": null,
      "outputs": [
        {
          "output_type": "stream",
          "name": "stderr",
          "text": [
            "/usr/local/lib/python3.7/dist-packages/ipykernel_launcher.py:2: FutureWarning: The default value of regex will change from True to False in a future version.\n",
            "  \n"
          ]
        }
      ]
    },
    {
      "cell_type": "code",
      "source": [
        "maquinas = ['small', 'medium', 'xlarge', '2xlarge']"
      ],
      "metadata": {
        "id": "5QhDMNKo8lK4"
      },
      "execution_count": null,
      "outputs": []
    },
    {
      "cell_type": "code",
      "source": [
        "custos = [0.023, 0.0464, 0.1856, 0.3712]\n",
        "custos_maquinas = []"
      ],
      "metadata": {
        "id": "CBC3qgo84eF2"
      },
      "execution_count": null,
      "outputs": []
    },
    {
      "cell_type": "code",
      "source": [
        "custos_small = []\n",
        "for i in data['Small']:\n",
        "  if i != 0:\n",
        "    custo = 0.023 / i * 100\n",
        "    if math.isnan(custo) == False:\n",
        "      custos_small.append(custo)\n",
        "\n",
        "print(custos_small)\n",
        "custos_maquinas.append(custos_small)"
      ],
      "metadata": {
        "colab": {
          "base_uri": "https://localhost:8080/"
        },
        "id": "9JiDVdok4tXt",
        "outputId": "e5fc0e22-1924-4a7c-ed5f-6edb46fa672a"
      },
      "execution_count": null,
      "outputs": [
        {
          "output_type": "stream",
          "name": "stdout",
          "text": [
            "[0.2346938775510204, 0.11274509803921569, 0.04781704781704781, 0.02963917525773196, 0.023232323232323233, 0.019376579612468407, 0.014906027219701879]\n"
          ]
        }
      ]
    },
    {
      "cell_type": "code",
      "source": [
        "custos_medium = []\n",
        "for i in data['Medium']:\n",
        "  custo = 0.0464 / i * 100\n",
        "  if math.isnan(custo) == False:\n",
        "    custos_medium.append(custo)\n",
        "\n",
        "print(custos_medium)\n",
        "custos_maquinas.append(custos_medium)"
      ],
      "metadata": {
        "colab": {
          "base_uri": "https://localhost:8080/"
        },
        "id": "7MkN1UBW6VIg",
        "outputId": "16bb6ac8-3ead-4726-cffc-f8919cedb244"
      },
      "execution_count": null,
      "outputs": [
        {
          "output_type": "stream",
          "name": "stdout",
          "text": [
            "[0.45048543689320386, 0.232, 0.08689138576779026, 0.057354758961681074, 0.04478764478764479, 0.03569230769230769, 0.032177531206657416]\n"
          ]
        }
      ]
    },
    {
      "cell_type": "code",
      "source": [
        "custos_xlarge = []\n",
        "for i in data['Large']:\n",
        "  custo = 0.1856 / i * 100\n",
        "  if math.isnan(custo) == False:\n",
        "    custos_xlarge.append(custo)\n",
        "\n",
        "print(custos_xlarge)\n",
        "custos_maquinas.append(custos_xlarge)"
      ],
      "metadata": {
        "colab": {
          "base_uri": "https://localhost:8080/"
        },
        "id": "IucYMZLA6gfB",
        "outputId": "76fd8239-03bf-4bbc-929b-ec47810eb832"
      },
      "execution_count": null,
      "outputs": [
        {
          "output_type": "stream",
          "name": "stdout",
          "text": [
            "[1.8747474747474746, 0.9233830845771143, 0.37570850202429146, 0.24135240572171648, 0.18785425101214573, 0.14320987654320988, 0.12835408022130015]\n"
          ]
        }
      ]
    },
    {
      "cell_type": "code",
      "source": [
        "custos_xxlarge = []\n",
        "for i in data['2xLarge']:\n",
        "  custo = 0.3712 / i * 100\n",
        "  if math.isnan(custo) == False:\n",
        "    custos_xxlarge.append(custo)\n",
        "\n",
        "print(custos_xxlarge)\n",
        "custos_maquinas.append(custos_xxlarge)"
      ],
      "metadata": {
        "colab": {
          "base_uri": "https://localhost:8080/"
        },
        "id": "yEssaPFx6pHF",
        "outputId": "97dc839e-e226-4497-bbca-dc0cf8578e81"
      },
      "execution_count": null,
      "outputs": [
        {
          "output_type": "stream",
          "name": "stdout",
          "text": [
            "[3.749494949494949, 1.8285714285714283, 0.8104803493449781, 0.4628428927680797, 0.3610894941634241, 0.28206686930091185, 0.24697272122421818]\n"
          ]
        }
      ]
    },
    {
      "cell_type": "code",
      "source": [
        "infra_ideal = data['Infra-Ideal'] / 1000\n",
        "print(infra_ideal)"
      ],
      "metadata": {
        "colab": {
          "base_uri": "https://localhost:8080/"
        },
        "id": "sIiuZrpkVZiI",
        "outputId": "c07affe9-4802-49e1-fe49-c8a1d2d62d9d"
      },
      "execution_count": null,
      "outputs": [
        {
          "output_type": "stream",
          "name": "stdout",
          "text": [
            "0    0.235\n",
            "1    0.232\n",
            "2    0.087\n",
            "3    0.057\n",
            "4    0.045\n",
            "5    0.036\n",
            "6    0.032\n",
            "Name: Infra-Ideal, dtype: float64\n"
          ]
        }
      ]
    },
    {
      "cell_type": "code",
      "source": [
        "markers = ['s', 'd', 'v', '^']"
      ],
      "metadata": {
        "id": "SuK6SOFundwH"
      },
      "execution_count": null,
      "outputs": []
    },
    {
      "cell_type": "code",
      "source": [
        "from matplotlib.ticker import ScalarFormatter"
      ],
      "metadata": {
        "id": "7j3LCeZ2VpD_"
      },
      "execution_count": null,
      "outputs": []
    },
    {
      "cell_type": "code",
      "source": [
        "p=[10, 20, 50, 80, 100, 130, 160]\n",
        "plt.rcParams.update({'font.size':18})\n",
        "fig,ax = plt.subplots(figsize =(12,6))\n",
        "for i in range(4):\n",
        "  size = len(custos_maquinas[i])\n",
        "  ax.plot(p[:size], custos_maquinas[i], marker=markers[i], linewidth=3, markersize=12, label=maquinas[i])\n",
        "\n",
        "ax.plot(p,infra_ideal, \"*\", linewidth=5, markersize=17, label=\"Infra ideal\", color='black')\n",
        "plt.xlabel('Carga (tps)')\n",
        "plt.ylabel('Centavos de Dólar')\n",
        "plt.legend(loc='upper left', ncol=5, fontsize=12)\n",
        "ax.set_yscale('log')\n",
        "plt.yticks([0.01, 0.10, 1, 10, 100])\n",
        "\n",
        "for axis in [ax.xaxis, ax.yaxis]:\n",
        "    axis.set_major_formatter(ScalarFormatter())\n",
        "\n",
        "plt.xticks([0, 20, 50, 80, 100, 130, 160])\n",
        "plt.savefig('grafico_custos_eth.pdf')\n",
        "plt.show()"
      ],
      "metadata": {
        "colab": {
          "base_uri": "https://localhost:8080/",
          "height": 411
        },
        "id": "7VE-b8zP60II",
        "outputId": "a5b1c65c-4760-415c-bf57-06bd0e0337d3"
      },
      "execution_count": null,
      "outputs": [
        {
          "output_type": "display_data",
          "data": {
            "image/png": "[encoded data removed]",
            "text/plain": [
              "<Figure size 864x432 with 1 Axes>"
            ]
          },
          "metadata": {
            "needs_background": "light"
          }
        }
      ]
    },
    {
      "cell_type": "markdown",
      "source": [
        ""
      ],
      "metadata": {
        "id": "HOLM6HG19Yg6"
      }
    },
    {
      "cell_type": "code",
      "source": [
        "'''custos_csv = pd.DataFrame()\n",
        "custos_csv['small_vazao'] = data['Small']\n",
        "custos_csv['medium_vazao'] = data['Medium']\n",
        "custos_csv['xlarge_vazao'] = data['Large']\n",
        "custos_csv['2xlarge_vazao'] = data['2xLarge']\n",
        "\n",
        "custos_csv['small_custo'] = custos_small\n",
        "custos_csv['medium_custo'] = custos_medium\n",
        "custos_csv['xlarge_custo'] = custos_xlarge\n",
        "custos_csv['2xlarge_custo'] = custos_xxlarge\n",
        "print(custos_csv)\n",
        "custos_csv.to_csv('vazao_custos.csv')'''"
      ],
      "metadata": {
        "colab": {
          "base_uri": "https://localhost:8080/"
        },
        "id": "NdXo3u77KfC1",
        "outputId": "b50c99e4-449b-4e8b-812a-68f1f000b49b"
      },
      "execution_count": null,
      "outputs": [
        {
          "output_type": "stream",
          "name": "stdout",
          "text": [
            "    small_vazao  medium_vazao  ...  xlarge_custo  2xlarge_custo\n",
            "0          7.93          8.60  ...      2.158140       4.218182\n",
            "1          8.82         17.70  ...      1.079070       2.133333\n",
            "2          0.61         13.10  ...      0.432634       0.853333\n",
            "3          0.00          7.00  ...      0.324476       0.533333\n",
            "4          0.00          2.00  ...      0.321664       0.464000\n",
            "5          0.00          0.75  ...      0.326186       0.404357\n",
            "6          0.00          0.64  ...      0.407912       0.410166\n",
            "7           NaN          3.70  ...      0.459406       0.418018\n",
            "8           NaN          1.40  ...      0.544282       0.403478\n",
            "9           NaN          2.10  ...      1.091765       0.418962\n",
            "10          NaN          1.60  ...      2.900000       0.414749\n",
            "11          NaN          0.40  ...      2.410390       0.436706\n",
            "12          NaN          1.40  ...      2.812121       0.438253\n",
            "13          NaN           NaN  ...      3.569231       0.550742\n",
            "\n",
            "[14 rows x 8 columns]\n"
          ]
        }
      ]
    }
  ]
}