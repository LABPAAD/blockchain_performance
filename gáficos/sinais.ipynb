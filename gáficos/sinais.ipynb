{
  "cells": [
    {
      "cell_type": "code",
      "execution_count": 1,
      "id": "6aa4c067-11b6-4539-a2f6-fbe553ba16aa",
      "metadata": {
        "id": "6aa4c067-11b6-4539-a2f6-fbe553ba16aa"
      },
      "outputs": [],
      "source": [
        "import matplotlib.pyplot as plt\n",
        "import matplotlib.patches as mpatches\n",
        "import pandas as pd\n",
        "import numpy as np, scipy.stats as st\n",
        "from google.colab import drive"
      ]
    },
    {
      "cell_type": "code",
      "source": [
        "drive.mount('/content/drive')"
      ],
      "metadata": {
        "colab": {
          "base_uri": "https://localhost:8080/"
        },
        "id": "KPqs1zvo6pTR",
        "outputId": "e1ce2eb0-c22c-441b-84d7-a39cefb9c006"
      },
      "id": "KPqs1zvo6pTR",
      "execution_count": 2,
      "outputs": [
        {
          "output_type": "stream",
          "name": "stdout",
          "text": [
            "Mounted at /content/drive\n"
          ]
        }
      ]
    },
    {
      "cell_type": "code",
      "source": [
        "vm ='1'"
      ],
      "metadata": {
        "id": "5x3z8LIiFdMU"
      },
      "id": "5x3z8LIiFdMU",
      "execution_count": 3,
      "outputs": []
    },
    {
      "cell_type": "code",
      "source": [
        "vm ='2'"
      ],
      "metadata": {
        "id": "aaR5bEhOFf31"
      },
      "id": "aaR5bEhOFf31",
      "execution_count": null,
      "outputs": []
    },
    {
      "cell_type": "code",
      "source": [
        "vm ='3'"
      ],
      "metadata": {
        "id": "2eIsGaIqFhi_"
      },
      "id": "2eIsGaIqFhi_",
      "execution_count": null,
      "outputs": []
    },
    {
      "cell_type": "code",
      "source": [
        "tipo = '6s'"
      ],
      "metadata": {
        "id": "B2BMxDfN0DVb"
      },
      "id": "B2BMxDfN0DVb",
      "execution_count": 4,
      "outputs": []
    },
    {
      "cell_type": "code",
      "source": [
        "tipo = '60s'"
      ],
      "metadata": {
        "id": "lNuZdNdb0eDI"
      },
      "id": "lNuZdNdb0eDI",
      "execution_count": null,
      "outputs": []
    },
    {
      "cell_type": "code",
      "execution_count": 5,
      "id": "7e367adb-e1f4-45f6-b413-0df9479cebb0",
      "metadata": {
        "colab": {
          "base_uri": "https://localhost:8080/",
          "height": 424
        },
        "id": "7e367adb-e1f4-45f6-b413-0df9479cebb0",
        "outputId": "b9099526-330d-4806-c62c-9f05f472810d"
      },
      "outputs": [
        {
          "output_type": "execute_result",
          "data": {
            "text/plain": [
              "     Unnamed: 0   Name  Succ  Fail  SendRate(TPS)  MaxLatency(s)  \\\n",
              "0           NaN  rnd01    64     0           10.7           2.05   \n",
              "1           NaN  rnd02    64     0           10.6           2.06   \n",
              "2           NaN  rnd03    64     0           10.6           2.06   \n",
              "3           NaN  rnd04    64     0           10.6           2.04   \n",
              "4           NaN  rnd05    64     0           10.6           2.05   \n",
              "..          ...    ...   ...   ...            ...            ...   \n",
              "105         NaN  rnd06  1204     0          200.5           2.05   \n",
              "106         NaN  rnd07  1204     0          200.3           2.04   \n",
              "107         NaN  rnd08  1203     0          200.0           2.06   \n",
              "108         NaN  rnd09  1204     0          200.4           2.06   \n",
              "109         NaN  rnd10  1204     0          200.5           2.05   \n",
              "\n",
              "     MinLatency(s)  AvgLatency(s)  Throughput(TPS)  Unnamed: 9  \n",
              "0             0.06           0.57              8.0         NaN  \n",
              "1             0.05           0.55              7.9         NaN  \n",
              "2             0.05           0.55              7.9         NaN  \n",
              "3             0.04           0.56              8.0         NaN  \n",
              "4             0.05           0.56              8.0         NaN  \n",
              "..             ...            ...              ...         ...  \n",
              "105           0.05           0.11            149.6         NaN  \n",
              "106           0.04           0.09            149.7         NaN  \n",
              "107           0.04           0.09            149.3         NaN  \n",
              "108           0.04           0.09            149.6         NaN  \n",
              "109           0.04           0.09            149.6         NaN  \n",
              "\n",
              "[110 rows x 10 columns]"
            ],
            "text/html": [
              "\n",
              "  <div id=\"df-97b257e8-9716-40f6-8536-133ef351b6e9\">\n",
              "    <div class=\"colab-df-container\">\n",
              "      <div>\n",
              "<style scoped>\n",
              "    .dataframe tbody tr th:only-of-type {\n",
              "        vertical-align: middle;\n",
              "    }\n",
              "\n",
              "    .dataframe tbody tr th {\n",
              "        vertical-align: top;\n",
              "    }\n",
              "\n",
              "    .dataframe thead th {\n",
              "        text-align: right;\n",
              "    }\n",
              "</style>\n",
              "<table border=\"1\" class=\"dataframe\">\n",
              "  <thead>\n",
              "    <tr style=\"text-align: right;\">\n",
              "      <th></th>\n",
              "      <th>Unnamed: 0</th>\n",
              "      <th>Name</th>\n",
              "      <th>Succ</th>\n",
              "      <th>Fail</th>\n",
              "      <th>SendRate(TPS)</th>\n",
              "      <th>MaxLatency(s)</th>\n",
              "      <th>MinLatency(s)</th>\n",
              "      <th>AvgLatency(s)</th>\n",
              "      <th>Throughput(TPS)</th>\n",
              "      <th>Unnamed: 9</th>\n",
              "    </tr>\n",
              "  </thead>\n",
              "  <tbody>\n",
              "    <tr>\n",
              "      <th>0</th>\n",
              "      <td>NaN</td>\n",
              "      <td>rnd01</td>\n",
              "      <td>64</td>\n",
              "      <td>0</td>\n",
              "      <td>10.7</td>\n",
              "      <td>2.05</td>\n",
              "      <td>0.06</td>\n",
              "      <td>0.57</td>\n",
              "      <td>8.0</td>\n",
              "      <td>NaN</td>\n",
              "    </tr>\n",
              "    <tr>\n",
              "      <th>1</th>\n",
              "      <td>NaN</td>\n",
              "      <td>rnd02</td>\n",
              "      <td>64</td>\n",
              "      <td>0</td>\n",
              "      <td>10.6</td>\n",
              "      <td>2.06</td>\n",
              "      <td>0.05</td>\n",
              "      <td>0.55</td>\n",
              "      <td>7.9</td>\n",
              "      <td>NaN</td>\n",
              "    </tr>\n",
              "    <tr>\n",
              "      <th>2</th>\n",
              "      <td>NaN</td>\n",
              "      <td>rnd03</td>\n",
              "      <td>64</td>\n",
              "      <td>0</td>\n",
              "      <td>10.6</td>\n",
              "      <td>2.06</td>\n",
              "      <td>0.05</td>\n",
              "      <td>0.55</td>\n",
              "      <td>7.9</td>\n",
              "      <td>NaN</td>\n",
              "    </tr>\n",
              "    <tr>\n",
              "      <th>3</th>\n",
              "      <td>NaN</td>\n",
              "      <td>rnd04</td>\n",
              "      <td>64</td>\n",
              "      <td>0</td>\n",
              "      <td>10.6</td>\n",
              "      <td>2.04</td>\n",
              "      <td>0.04</td>\n",
              "      <td>0.56</td>\n",
              "      <td>8.0</td>\n",
              "      <td>NaN</td>\n",
              "    </tr>\n",
              "    <tr>\n",
              "      <th>4</th>\n",
              "      <td>NaN</td>\n",
              "      <td>rnd05</td>\n",
              "      <td>64</td>\n",
              "      <td>0</td>\n",
              "      <td>10.6</td>\n",
              "      <td>2.05</td>\n",
              "      <td>0.05</td>\n",
              "      <td>0.56</td>\n",
              "      <td>8.0</td>\n",
              "      <td>NaN</td>\n",
              "    </tr>\n",
              "    <tr>\n",
              "      <th>...</th>\n",
              "      <td>...</td>\n",
              "      <td>...</td>\n",
              "      <td>...</td>\n",
              "      <td>...</td>\n",
              "      <td>...</td>\n",
              "      <td>...</td>\n",
              "      <td>...</td>\n",
              "      <td>...</td>\n",
              "      <td>...</td>\n",
              "      <td>...</td>\n",
              "    </tr>\n",
              "    <tr>\n",
              "      <th>105</th>\n",
              "      <td>NaN</td>\n",
              "      <td>rnd06</td>\n",
              "      <td>1204</td>\n",
              "      <td>0</td>\n",
              "      <td>200.5</td>\n",
              "      <td>2.05</td>\n",
              "      <td>0.05</td>\n",
              "      <td>0.11</td>\n",
              "      <td>149.6</td>\n",
              "      <td>NaN</td>\n",
              "    </tr>\n",
              "    <tr>\n",
              "      <th>106</th>\n",
              "      <td>NaN</td>\n",
              "      <td>rnd07</td>\n",
              "      <td>1204</td>\n",
              "      <td>0</td>\n",
              "      <td>200.3</td>\n",
              "      <td>2.04</td>\n",
              "      <td>0.04</td>\n",
              "      <td>0.09</td>\n",
              "      <td>149.7</td>\n",
              "      <td>NaN</td>\n",
              "    </tr>\n",
              "    <tr>\n",
              "      <th>107</th>\n",
              "      <td>NaN</td>\n",
              "      <td>rnd08</td>\n",
              "      <td>1203</td>\n",
              "      <td>0</td>\n",
              "      <td>200.0</td>\n",
              "      <td>2.06</td>\n",
              "      <td>0.04</td>\n",
              "      <td>0.09</td>\n",
              "      <td>149.3</td>\n",
              "      <td>NaN</td>\n",
              "    </tr>\n",
              "    <tr>\n",
              "      <th>108</th>\n",
              "      <td>NaN</td>\n",
              "      <td>rnd09</td>\n",
              "      <td>1204</td>\n",
              "      <td>0</td>\n",
              "      <td>200.4</td>\n",
              "      <td>2.06</td>\n",
              "      <td>0.04</td>\n",
              "      <td>0.09</td>\n",
              "      <td>149.6</td>\n",
              "      <td>NaN</td>\n",
              "    </tr>\n",
              "    <tr>\n",
              "      <th>109</th>\n",
              "      <td>NaN</td>\n",
              "      <td>rnd10</td>\n",
              "      <td>1204</td>\n",
              "      <td>0</td>\n",
              "      <td>200.5</td>\n",
              "      <td>2.05</td>\n",
              "      <td>0.04</td>\n",
              "      <td>0.09</td>\n",
              "      <td>149.6</td>\n",
              "      <td>NaN</td>\n",
              "    </tr>\n",
              "  </tbody>\n",
              "</table>\n",
              "<p>110 rows × 10 columns</p>\n",
              "</div>\n",
              "      <button class=\"colab-df-convert\" onclick=\"convertToInteractive('df-97b257e8-9716-40f6-8536-133ef351b6e9')\"\n",
              "              title=\"Convert this dataframe to an interactive table.\"\n",
              "              style=\"display:none;\">\n",
              "        \n",
              "  <svg xmlns=\"http://www.w3.org/2000/svg\" height=\"24px\"viewBox=\"0 0 24 24\"\n",
              "       width=\"24px\">\n",
              "    <path d=\"M0 0h24v24H0V0z\" fill=\"none\"/>\n",
              "    <path d=\"M18.56 5.44l.94 2.06.94-2.06 2.06-.94-2.06-.94-.94-2.06-.94 2.06-2.06.94zm-11 1L8.5 8.5l.94-2.06 2.06-.94-2.06-.94L8.5 2.5l-.94 2.06-2.06.94zm10 10l.94 2.06.94-2.06 2.06-.94-2.06-.94-.94-2.06-.94 2.06-2.06.94z\"/><path d=\"M17.41 7.96l-1.37-1.37c-.4-.4-.92-.59-1.43-.59-.52 0-1.04.2-1.43.59L10.3 9.45l-7.72 7.72c-.78.78-.78 2.05 0 2.83L4 21.41c.39.39.9.59 1.41.59.51 0 1.02-.2 1.41-.59l7.78-7.78 2.81-2.81c.8-.78.8-2.07 0-2.86zM5.41 20L4 18.59l7.72-7.72 1.47 1.35L5.41 20z\"/>\n",
              "  </svg>\n",
              "      </button>\n",
              "      \n",
              "  <style>\n",
              "    .colab-df-container {\n",
              "      display:flex;\n",
              "      flex-wrap:wrap;\n",
              "      gap: 12px;\n",
              "    }\n",
              "\n",
              "    .colab-df-convert {\n",
              "      background-color: #E8F0FE;\n",
              "      border: none;\n",
              "      border-radius: 50%;\n",
              "      cursor: pointer;\n",
              "      display: none;\n",
              "      fill: #1967D2;\n",
              "      height: 32px;\n",
              "      padding: 0 0 0 0;\n",
              "      width: 32px;\n",
              "    }\n",
              "\n",
              "    .colab-df-convert:hover {\n",
              "      background-color: #E2EBFA;\n",
              "      box-shadow: 0px 1px 2px rgba(60, 64, 67, 0.3), 0px 1px 3px 1px rgba(60, 64, 67, 0.15);\n",
              "      fill: #174EA6;\n",
              "    }\n",
              "\n",
              "    [theme=dark] .colab-df-convert {\n",
              "      background-color: #3B4455;\n",
              "      fill: #D2E3FC;\n",
              "    }\n",
              "\n",
              "    [theme=dark] .colab-df-convert:hover {\n",
              "      background-color: #434B5C;\n",
              "      box-shadow: 0px 1px 3px 1px rgba(0, 0, 0, 0.15);\n",
              "      filter: drop-shadow(0px 1px 2px rgba(0, 0, 0, 0.3));\n",
              "      fill: #FFFFFF;\n",
              "    }\n",
              "  </style>\n",
              "\n",
              "      <script>\n",
              "        const buttonEl =\n",
              "          document.querySelector('#df-97b257e8-9716-40f6-8536-133ef351b6e9 button.colab-df-convert');\n",
              "        buttonEl.style.display =\n",
              "          google.colab.kernel.accessAllowed ? 'block' : 'none';\n",
              "\n",
              "        async function convertToInteractive(key) {\n",
              "          const element = document.querySelector('#df-97b257e8-9716-40f6-8536-133ef351b6e9');\n",
              "          const dataTable =\n",
              "            await google.colab.kernel.invokeFunction('convertToInteractive',\n",
              "                                                     [key], {});\n",
              "          if (!dataTable) return;\n",
              "\n",
              "          const docLinkHtml = 'Like what you see? Visit the ' +\n",
              "            '<a target=\"_blank\" href=https://colab.research.google.com/notebooks/data_table.ipynb>data table notebook</a>'\n",
              "            + ' to learn more about interactive tables.';\n",
              "          element.innerHTML = '';\n",
              "          dataTable['output_type'] = 'display_data';\n",
              "          await google.colab.output.renderOutput(dataTable, element);\n",
              "          const docLink = document.createElement('div');\n",
              "          docLink.innerHTML = docLinkHtml;\n",
              "          element.appendChild(docLink);\n",
              "        }\n",
              "      </script>\n",
              "    </div>\n",
              "  </div>\n",
              "  "
            ]
          },
          "metadata": {},
          "execution_count": 5
        }
      ],
      "source": [
        "if tipo == '6s':  \n",
        "  caliperS = pd.read_csv('/content/drive/MyDrive/sbrc2023/small/cluster2_small.txt')\n",
        "  caliperM = pd.read_csv('/content/drive/MyDrive/sbrc2023/medium/cluster2_medium.txt')\n",
        "  caliperL = pd.read_csv('/content/drive/MyDrive/sbrc2023/xlarge/cluster2_xlarge.txt')\n",
        "elif tipo == '60s':\n",
        "  caliperS = pd.read_csv('/content/drive/MyDrive/sbrc2023/Small60s/cluster2_small.txt')\n",
        "  caliperM = pd.read_csv('/content/drive/MyDrive/sbrc2023/Medium60s/cluster2_medium.txt')\n",
        "  caliperL = pd.read_csv('/content/drive/MyDrive/sbrc2023/Xlarge60s/cluster2_xlarge.txt')\n",
        "caliperL"
      ]
    },
    {
      "cell_type": "code",
      "execution_count": 6,
      "id": "f5bb525e-d21e-4b5d-8093-aa5e7d6a20fd",
      "metadata": {
        "colab": {
          "base_uri": "https://localhost:8080/"
        },
        "id": "f5bb525e-d21e-4b5d-8093-aa5e7d6a20fd",
        "outputId": "d167b272-ffb2-4e49-aa1f-e474d2834b3b"
      },
      "outputs": [
        {
          "output_type": "stream",
          "name": "stdout",
          "text": [
            "[7.94, 15.4, 30.3, 45.15, 59.82, 74.87, 89.75, 104.09, 118.18, 132.64, 146.27]\n",
            "[7.94, 15.4, 30.3, 45.19, 60.09, 74.98, 89.88, 104.74, 119.57, 134.28, 149.17]\n",
            "[7.98, 15.4, 30.31, 45.24, 60.09, 75.01, 89.99, 104.91, 119.81, 134.65, 149.27]\n"
          ]
        }
      ],
      "source": [
        "vazS = []\n",
        "rdns = caliperS['Throughput(TPS)']\n",
        "partes = [rdns[index : index + 10] for index in range(0, len(rdns), 10)]\n",
        "for i in partes:\n",
        "  vazS.append(np.mean(i))\n",
        "print([ float(\"%.02f\" % x) for x in vazS])\n",
        "\n",
        "vazM = []\n",
        "rdns = caliperM['Throughput(TPS)']\n",
        "partes = [rdns[index : index + 10] for index in range(0, len(rdns), 10)]\n",
        "for i in partes:\n",
        "  vazM.append(np.mean(i))\n",
        "print([ float(\"%.02f\" % x) for x in vazM])\n",
        "\n",
        "vazL = []\n",
        "rdns = caliperL['Throughput(TPS)']\n",
        "partes = [rdns[index : index + 10] for index in range(0, len(rdns), 10)]\n",
        "for i in partes:\n",
        "  vazL.append(np.mean(i))\n",
        "print([ float(\"%.02f\" % x) for x in vazL])\n"
      ]
    },
    {
      "cell_type": "code",
      "execution_count": 7,
      "id": "a87335e4-668c-4ea3-a9cf-a5db8c57e0d8",
      "metadata": {
        "colab": {
          "base_uri": "https://localhost:8080/"
        },
        "id": "a87335e4-668c-4ea3-a9cf-a5db8c57e0d8",
        "outputId": "aef5c3b9-587d-4dfb-d4de-5635750ffd4d"
      },
      "outputs": [
        {
          "output_type": "stream",
          "name": "stdout",
          "text": [
            "[0.57, 0.33, 0.2, 0.16, 0.17, 0.13, 0.15, 0.2, 0.27, 0.33, 0.78]\n",
            "[0.56, 0.32, 0.19, 0.15, 0.13, 0.12, 0.11, 0.11, 0.12, 0.12, 0.12]\n",
            "[0.56, 0.31, 0.18, 0.14, 0.12, 0.1, 0.1, 0.09, 0.09, 0.09, 0.1]\n"
          ]
        }
      ],
      "source": [
        "latS = []\n",
        "rdns = caliperS['AvgLatency(s)']\n",
        "partes = [rdns[index : index + 10] for index in range(0, len(rdns), 10)]\n",
        "for i in partes:\n",
        "  latS.append(np.mean(i))\n",
        "print([ float(\"%.02f\" % x) for x in latS])\n",
        "\n",
        "latM = []\n",
        "rdns = caliperM['AvgLatency(s)']\n",
        "partes = [rdns[index : index + 10] for index in range(0, len(rdns), 10)]\n",
        "for i in partes:\n",
        "  latM.append(np.mean(i))\n",
        "print([ float(\"%.02f\" % x) for x in latM])\n",
        "\n",
        "latL = []\n",
        "rdns = caliperL['AvgLatency(s)']\n",
        "partes = [rdns[index : index + 10] for index in range(0, len(rdns), 10)]\n",
        "for i in partes:\n",
        "  latL.append(np.mean(i))\n",
        "print([ float(\"%.02f\" % x) for x in latL])"
      ]
    },
    {
      "cell_type": "code",
      "source": [
        "obj = {'Small': latS,\n",
        "       'Medium':latM,\n",
        "       'xLarge':latL}\n",
        "df = pd.DataFrame(data=obj)\n",
        "df_laten = df.copy() \n",
        "for column in df_laten.columns: \n",
        "    df_laten[column] = df_laten[column]\n",
        "display(df_laten)"
      ],
      "metadata": {
        "colab": {
          "base_uri": "https://localhost:8080/",
          "height": 394
        },
        "id": "GJJUe-tsVORK",
        "outputId": "0d181255-e932-4182-f26d-dd90f1c0ace4"
      },
      "id": "GJJUe-tsVORK",
      "execution_count": 8,
      "outputs": [
        {
          "output_type": "display_data",
          "data": {
            "text/plain": [
              "    Small  Medium  xLarge\n",
              "0   0.569   0.563   0.556\n",
              "1   0.331   0.320   0.312\n",
              "2   0.200   0.194   0.184\n",
              "3   0.158   0.150   0.140\n",
              "4   0.173   0.128   0.120\n",
              "5   0.131   0.115   0.103\n",
              "6   0.146   0.110   0.097\n",
              "7   0.200   0.113   0.092\n",
              "8   0.273   0.119   0.091\n",
              "9   0.330   0.122   0.093\n",
              "10  0.784   0.122   0.099"
            ],
            "text/html": [
              "\n",
              "  <div id=\"df-b5c65f0c-2c31-4192-b5ec-0f1bcbd0812b\">\n",
              "    <div class=\"colab-df-container\">\n",
              "      <div>\n",
              "<style scoped>\n",
              "    .dataframe tbody tr th:only-of-type {\n",
              "        vertical-align: middle;\n",
              "    }\n",
              "\n",
              "    .dataframe tbody tr th {\n",
              "        vertical-align: top;\n",
              "    }\n",
              "\n",
              "    .dataframe thead th {\n",
              "        text-align: right;\n",
              "    }\n",
              "</style>\n",
              "<table border=\"1\" class=\"dataframe\">\n",
              "  <thead>\n",
              "    <tr style=\"text-align: right;\">\n",
              "      <th></th>\n",
              "      <th>Small</th>\n",
              "      <th>Medium</th>\n",
              "      <th>xLarge</th>\n",
              "    </tr>\n",
              "  </thead>\n",
              "  <tbody>\n",
              "    <tr>\n",
              "      <th>0</th>\n",
              "      <td>0.569</td>\n",
              "      <td>0.563</td>\n",
              "      <td>0.556</td>\n",
              "    </tr>\n",
              "    <tr>\n",
              "      <th>1</th>\n",
              "      <td>0.331</td>\n",
              "      <td>0.320</td>\n",
              "      <td>0.312</td>\n",
              "    </tr>\n",
              "    <tr>\n",
              "      <th>2</th>\n",
              "      <td>0.200</td>\n",
              "      <td>0.194</td>\n",
              "      <td>0.184</td>\n",
              "    </tr>\n",
              "    <tr>\n",
              "      <th>3</th>\n",
              "      <td>0.158</td>\n",
              "      <td>0.150</td>\n",
              "      <td>0.140</td>\n",
              "    </tr>\n",
              "    <tr>\n",
              "      <th>4</th>\n",
              "      <td>0.173</td>\n",
              "      <td>0.128</td>\n",
              "      <td>0.120</td>\n",
              "    </tr>\n",
              "    <tr>\n",
              "      <th>5</th>\n",
              "      <td>0.131</td>\n",
              "      <td>0.115</td>\n",
              "      <td>0.103</td>\n",
              "    </tr>\n",
              "    <tr>\n",
              "      <th>6</th>\n",
              "      <td>0.146</td>\n",
              "      <td>0.110</td>\n",
              "      <td>0.097</td>\n",
              "    </tr>\n",
              "    <tr>\n",
              "      <th>7</th>\n",
              "      <td>0.200</td>\n",
              "      <td>0.113</td>\n",
              "      <td>0.092</td>\n",
              "    </tr>\n",
              "    <tr>\n",
              "      <th>8</th>\n",
              "      <td>0.273</td>\n",
              "      <td>0.119</td>\n",
              "      <td>0.091</td>\n",
              "    </tr>\n",
              "    <tr>\n",
              "      <th>9</th>\n",
              "      <td>0.330</td>\n",
              "      <td>0.122</td>\n",
              "      <td>0.093</td>\n",
              "    </tr>\n",
              "    <tr>\n",
              "      <th>10</th>\n",
              "      <td>0.784</td>\n",
              "      <td>0.122</td>\n",
              "      <td>0.099</td>\n",
              "    </tr>\n",
              "  </tbody>\n",
              "</table>\n",
              "</div>\n",
              "      <button class=\"colab-df-convert\" onclick=\"convertToInteractive('df-b5c65f0c-2c31-4192-b5ec-0f1bcbd0812b')\"\n",
              "              title=\"Convert this dataframe to an interactive table.\"\n",
              "              style=\"display:none;\">\n",
              "        \n",
              "  <svg xmlns=\"http://www.w3.org/2000/svg\" height=\"24px\"viewBox=\"0 0 24 24\"\n",
              "       width=\"24px\">\n",
              "    <path d=\"M0 0h24v24H0V0z\" fill=\"none\"/>\n",
              "    <path d=\"M18.56 5.44l.94 2.06.94-2.06 2.06-.94-2.06-.94-.94-2.06-.94 2.06-2.06.94zm-11 1L8.5 8.5l.94-2.06 2.06-.94-2.06-.94L8.5 2.5l-.94 2.06-2.06.94zm10 10l.94 2.06.94-2.06 2.06-.94-2.06-.94-.94-2.06-.94 2.06-2.06.94z\"/><path d=\"M17.41 7.96l-1.37-1.37c-.4-.4-.92-.59-1.43-.59-.52 0-1.04.2-1.43.59L10.3 9.45l-7.72 7.72c-.78.78-.78 2.05 0 2.83L4 21.41c.39.39.9.59 1.41.59.51 0 1.02-.2 1.41-.59l7.78-7.78 2.81-2.81c.8-.78.8-2.07 0-2.86zM5.41 20L4 18.59l7.72-7.72 1.47 1.35L5.41 20z\"/>\n",
              "  </svg>\n",
              "      </button>\n",
              "      \n",
              "  <style>\n",
              "    .colab-df-container {\n",
              "      display:flex;\n",
              "      flex-wrap:wrap;\n",
              "      gap: 12px;\n",
              "    }\n",
              "\n",
              "    .colab-df-convert {\n",
              "      background-color: #E8F0FE;\n",
              "      border: none;\n",
              "      border-radius: 50%;\n",
              "      cursor: pointer;\n",
              "      display: none;\n",
              "      fill: #1967D2;\n",
              "      height: 32px;\n",
              "      padding: 0 0 0 0;\n",
              "      width: 32px;\n",
              "    }\n",
              "\n",
              "    .colab-df-convert:hover {\n",
              "      background-color: #E2EBFA;\n",
              "      box-shadow: 0px 1px 2px rgba(60, 64, 67, 0.3), 0px 1px 3px 1px rgba(60, 64, 67, 0.15);\n",
              "      fill: #174EA6;\n",
              "    }\n",
              "\n",
              "    [theme=dark] .colab-df-convert {\n",
              "      background-color: #3B4455;\n",
              "      fill: #D2E3FC;\n",
              "    }\n",
              "\n",
              "    [theme=dark] .colab-df-convert:hover {\n",
              "      background-color: #434B5C;\n",
              "      box-shadow: 0px 1px 3px 1px rgba(0, 0, 0, 0.15);\n",
              "      filter: drop-shadow(0px 1px 2px rgba(0, 0, 0, 0.3));\n",
              "      fill: #FFFFFF;\n",
              "    }\n",
              "  </style>\n",
              "\n",
              "      <script>\n",
              "        const buttonEl =\n",
              "          document.querySelector('#df-b5c65f0c-2c31-4192-b5ec-0f1bcbd0812b button.colab-df-convert');\n",
              "        buttonEl.style.display =\n",
              "          google.colab.kernel.accessAllowed ? 'block' : 'none';\n",
              "\n",
              "        async function convertToInteractive(key) {\n",
              "          const element = document.querySelector('#df-b5c65f0c-2c31-4192-b5ec-0f1bcbd0812b');\n",
              "          const dataTable =\n",
              "            await google.colab.kernel.invokeFunction('convertToInteractive',\n",
              "                                                     [key], {});\n",
              "          if (!dataTable) return;\n",
              "\n",
              "          const docLinkHtml = 'Like what you see? Visit the ' +\n",
              "            '<a target=\"_blank\" href=https://colab.research.google.com/notebooks/data_table.ipynb>data table notebook</a>'\n",
              "            + ' to learn more about interactive tables.';\n",
              "          element.innerHTML = '';\n",
              "          dataTable['output_type'] = 'display_data';\n",
              "          await google.colab.output.renderOutput(dataTable, element);\n",
              "          const docLink = document.createElement('div');\n",
              "          docLink.innerHTML = docLinkHtml;\n",
              "          element.appendChild(docLink);\n",
              "        }\n",
              "      </script>\n",
              "    </div>\n",
              "  </div>\n",
              "  "
            ]
          },
          "metadata": {}
        }
      ]
    },
    {
      "cell_type": "code",
      "execution_count": 9,
      "id": "546b5e29-969f-4b3a-89e4-6cee4c5d6b79",
      "metadata": {
        "id": "546b5e29-969f-4b3a-89e4-6cee4c5d6b79"
      },
      "outputs": [],
      "source": [
        "maquinas=(\"small\",\"medium\",\"large\")"
      ]
    },
    {
      "cell_type": "code",
      "execution_count": 10,
      "id": "09a67184-9947-4420-aed9-aee5ef335418",
      "metadata": {
        "colab": {
          "base_uri": "https://localhost:8080/",
          "height": 414
        },
        "id": "09a67184-9947-4420-aed9-aee5ef335418",
        "outputId": "cd4897b5-5512-40d5-f244-3db989fc7e12"
      },
      "outputs": [
        {
          "output_type": "display_data",
          "data": {
            "text/plain": [
              "<Figure size 864x432 with 1 Axes>"
            ],
            "image/png": "[encoded data removed]"
          },
          "metadata": {
            "needs_background": "light"
          }
        }
      ],
      "source": [
        "p=[10, 20, 40, 60, 80, 100, 120, 140, 160, 180, 200]\n",
        "plt.rcParams.update({'font.size':20})\n",
        "fig,ax = plt.subplots(figsize =(12,6))\n",
        "#ax.set_title('Latência para Ethereum Provider por vCPU')\n",
        "ax.set_xlabel('Carga (tps)')\n",
        "ax.set_ylabel('Latência (s)')\n",
        "ax.plot(p,df_laten['Small'],marker=\"^\", label=\"Small\")\n",
        "ax.plot(p,df_laten['Medium'],marker=\"*\", label=\"Medium\")\n",
        "ax.plot(p,df_laten['xLarge'],marker=\"+\", label=\"xLarge\")\n",
        "ax.set_xlim(0, 210)\n",
        "ax.set_ylim(0, 1.0)\n",
        "plt.xticks(p)\n",
        "plt.legend(loc = 9)\n",
        "plt.savefig('grafico_latencia_HyperLd_'+tipo+'.pdf')\n",
        "plt.show()"
      ]
    },
    {
      "cell_type": "code",
      "source": [
        "def erroMedia(cl,var):\n",
        "  erro = []\n",
        "  rdns = cl[var]\n",
        "  partes = [rdns[index : index + 10] for index in range(0, len(rdns), 10)]\n",
        "  for i in partes:\n",
        "    interval = st.t.interval(alpha=0.90,df=len(i)-1,loc=np.mean(i),scale=st.sem(i))\n",
        "    erro.append(np.mean(i) - interval[0])\n",
        "  return erro"
      ],
      "metadata": {
        "id": "R8mwI4012Ojq"
      },
      "id": "R8mwI4012Ojq",
      "execution_count": 11,
      "outputs": []
    },
    {
      "cell_type": "code",
      "source": [
        "print(erroMedia(caliperS,'AvgLatency(s)'))\n",
        "print(erroMedia(caliperM,'AvgLatency(s)'))\n",
        "print(erroMedia(caliperL,'AvgLatency(s)'))"
      ],
      "metadata": {
        "colab": {
          "base_uri": "https://localhost:8080/"
        },
        "id": "pg-8A7tZQ06u",
        "outputId": "a8c3bb69-55fb-472e-851f-544d56163279"
      },
      "id": "pg-8A7tZQ06u",
      "execution_count": 12,
      "outputs": [
        {
          "output_type": "stream",
          "name": "stdout",
          "text": [
            "[0.0032905384174765073, 0.0018331129326536466, nan, 0.002444150576871501, 0.01192697899764053, 0.0018331129326536466, 0.00488830115374303, 0.014459789814680823, 0.012537444241798701, 0.00819793025569504, 0.08121055802562349]\n",
            "[0.003912549949675381, 0.002732643418564995, 0.002993460883932181, 0.002732643418565023, 0.0036662258653072655, 0.00409896512784752, 0.0038645413836642106, 0.003912549949675367, 0.010741061577854497, 0.008106330394613503, 0.008980382651796542]\n",
            "[0.004053165197306696, 0.002444150576871529, 0.002993460883932181, 2.7755575615628914e-17, 0.002732643418565009, 0.002800126257095914, 0.003912549949675367, 0.002444150576871515, 0.0018331129326536327, 0.003912549949675367, 0.005764517606527783]\n"
          ]
        },
        {
          "output_type": "stream",
          "name": "stderr",
          "text": [
            "/usr/local/lib/python3.8/dist-packages/scipy/stats/_distn_infrastructure.py:2128: RuntimeWarning: invalid value encountered in multiply\n",
            "  lower_bound = _a * scale + loc\n",
            "/usr/local/lib/python3.8/dist-packages/scipy/stats/_distn_infrastructure.py:2129: RuntimeWarning: invalid value encountered in multiply\n",
            "  upper_bound = _b * scale + loc\n"
          ]
        }
      ]
    },
    {
      "cell_type": "code",
      "source": [
        "x = [10, 20, 40, 60,80, 100, 120,140, 160,180, 200]\n",
        "\n",
        "\n",
        "# fig = plt.figure()\n",
        "# plt.subplots(figsize =(15,8))\n",
        "fig,ax = plt.subplots(figsize =(12,6))\n",
        "plt.xlabel('Carga (tps)', fontsize=20)\n",
        "plt.ylabel('Latência (s)',size=20)\n",
        "\n",
        "plt.errorbar(x, latS, yerr=erroMedia(caliperS,'AvgLatency(s)'),marker='.',label='Small', linewidth=3, markersize=20)\n",
        "\n",
        "plt.errorbar(x, latM, yerr=erroMedia(caliperM,'AvgLatency(s)'),marker='.',label='Medium', linewidth=3, markersize=20)\n",
        "\n",
        "plt.errorbar(x, latL, yerr=erroMedia(caliperL,'AvgLatency(s)'),marker='.',label='xLarge', linewidth=3, markersize=20)\n",
        "\n",
        "plt.xticks(x, fontsize=18)\n",
        "\n",
        "ax.set_ylim(0, 1)\n",
        "\n",
        "plt.legend()\n",
        "plt.savefig('grafico_latencia_error_HyperLd_'+tipo+'.pdf')"
      ],
      "metadata": {
        "colab": {
          "base_uri": "https://localhost:8080/",
          "height": 482
        },
        "id": "qMegdga7RFOz",
        "outputId": "76cea338-1c4e-4beb-dfdc-1239ac499f7b"
      },
      "id": "qMegdga7RFOz",
      "execution_count": 14,
      "outputs": [
        {
          "output_type": "stream",
          "name": "stderr",
          "text": [
            "/usr/local/lib/python3.8/dist-packages/scipy/stats/_distn_infrastructure.py:2128: RuntimeWarning: invalid value encountered in multiply\n",
            "  lower_bound = _a * scale + loc\n",
            "/usr/local/lib/python3.8/dist-packages/scipy/stats/_distn_infrastructure.py:2129: RuntimeWarning: invalid value encountered in multiply\n",
            "  upper_bound = _b * scale + loc\n"
          ]
        },
        {
          "output_type": "display_data",
          "data": {
            "text/plain": [
              "<Figure size 864x432 with 1 Axes>"
            ],
            "image/png": "[encoded data removed]"
          },
          "metadata": {
            "needs_background": "light"
          }
        }
      ]
    },
    {
      "cell_type": "code",
      "source": [
        "obj = {'Small': [0.126, 0.073,\t0.044,\t0.035,\t0.038, 0.029, 0.033, 0.044, 0.060, 0.073,\t0.173],\n",
        "       'Medium':[0.250, 0.143,\t0.085,\t0.067,\t0.058,\t0.054,\t0.049,\t0.049,\t0.054,\t0.054,\t0.058],\n",
        "       'xLarge':[1.000,\t0.554,\t0.321,\t0.250,\t0.214,\t0.179,\t0.179,\t0.161, 0.161, 0.161,\t0.179]}\n",
        "df = pd.DataFrame(data=obj)\n",
        "df_max_scaled = df.copy() \n",
        "for column in df_max_scaled.columns: \n",
        "    df_max_scaled[column] = df_max_scaled[column]  / df.abs().max().max() \n",
        "display(df_max_scaled)"
      ],
      "metadata": {
        "colab": {
          "base_uri": "https://localhost:8080/",
          "height": 394
        },
        "id": "6NzUT3BsZW4U",
        "outputId": "64cac23c-f8df-447b-8667-b33f0fb39866"
      },
      "id": "6NzUT3BsZW4U",
      "execution_count": 15,
      "outputs": [
        {
          "output_type": "display_data",
          "data": {
            "text/plain": [
              "    Small  Medium  xLarge\n",
              "0   0.126   0.250   1.000\n",
              "1   0.073   0.143   0.554\n",
              "2   0.044   0.085   0.321\n",
              "3   0.035   0.067   0.250\n",
              "4   0.038   0.058   0.214\n",
              "5   0.029   0.054   0.179\n",
              "6   0.033   0.049   0.179\n",
              "7   0.044   0.049   0.161\n",
              "8   0.060   0.054   0.161\n",
              "9   0.073   0.054   0.161\n",
              "10  0.173   0.058   0.179"
            ],
            "text/html": [
              "\n",
              "  <div id=\"df-3d1c8ec9-98a6-434c-bf1d-f0cf9f4c66d8\">\n",
              "    <div class=\"colab-df-container\">\n",
              "      <div>\n",
              "<style scoped>\n",
              "    .dataframe tbody tr th:only-of-type {\n",
              "        vertical-align: middle;\n",
              "    }\n",
              "\n",
              "    .dataframe tbody tr th {\n",
              "        vertical-align: top;\n",
              "    }\n",
              "\n",
              "    .dataframe thead th {\n",
              "        text-align: right;\n",
              "    }\n",
              "</style>\n",
              "<table border=\"1\" class=\"dataframe\">\n",
              "  <thead>\n",
              "    <tr style=\"text-align: right;\">\n",
              "      <th></th>\n",
              "      <th>Small</th>\n",
              "      <th>Medium</th>\n",
              "      <th>xLarge</th>\n",
              "    </tr>\n",
              "  </thead>\n",
              "  <tbody>\n",
              "    <tr>\n",
              "      <th>0</th>\n",
              "      <td>0.126</td>\n",
              "      <td>0.250</td>\n",
              "      <td>1.000</td>\n",
              "    </tr>\n",
              "    <tr>\n",
              "      <th>1</th>\n",
              "      <td>0.073</td>\n",
              "      <td>0.143</td>\n",
              "      <td>0.554</td>\n",
              "    </tr>\n",
              "    <tr>\n",
              "      <th>2</th>\n",
              "      <td>0.044</td>\n",
              "      <td>0.085</td>\n",
              "      <td>0.321</td>\n",
              "    </tr>\n",
              "    <tr>\n",
              "      <th>3</th>\n",
              "      <td>0.035</td>\n",
              "      <td>0.067</td>\n",
              "      <td>0.250</td>\n",
              "    </tr>\n",
              "    <tr>\n",
              "      <th>4</th>\n",
              "      <td>0.038</td>\n",
              "      <td>0.058</td>\n",
              "      <td>0.214</td>\n",
              "    </tr>\n",
              "    <tr>\n",
              "      <th>5</th>\n",
              "      <td>0.029</td>\n",
              "      <td>0.054</td>\n",
              "      <td>0.179</td>\n",
              "    </tr>\n",
              "    <tr>\n",
              "      <th>6</th>\n",
              "      <td>0.033</td>\n",
              "      <td>0.049</td>\n",
              "      <td>0.179</td>\n",
              "    </tr>\n",
              "    <tr>\n",
              "      <th>7</th>\n",
              "      <td>0.044</td>\n",
              "      <td>0.049</td>\n",
              "      <td>0.161</td>\n",
              "    </tr>\n",
              "    <tr>\n",
              "      <th>8</th>\n",
              "      <td>0.060</td>\n",
              "      <td>0.054</td>\n",
              "      <td>0.161</td>\n",
              "    </tr>\n",
              "    <tr>\n",
              "      <th>9</th>\n",
              "      <td>0.073</td>\n",
              "      <td>0.054</td>\n",
              "      <td>0.161</td>\n",
              "    </tr>\n",
              "    <tr>\n",
              "      <th>10</th>\n",
              "      <td>0.173</td>\n",
              "      <td>0.058</td>\n",
              "      <td>0.179</td>\n",
              "    </tr>\n",
              "  </tbody>\n",
              "</table>\n",
              "</div>\n",
              "      <button class=\"colab-df-convert\" onclick=\"convertToInteractive('df-3d1c8ec9-98a6-434c-bf1d-f0cf9f4c66d8')\"\n",
              "              title=\"Convert this dataframe to an interactive table.\"\n",
              "              style=\"display:none;\">\n",
              "        \n",
              "  <svg xmlns=\"http://www.w3.org/2000/svg\" height=\"24px\"viewBox=\"0 0 24 24\"\n",
              "       width=\"24px\">\n",
              "    <path d=\"M0 0h24v24H0V0z\" fill=\"none\"/>\n",
              "    <path d=\"M18.56 5.44l.94 2.06.94-2.06 2.06-.94-2.06-.94-.94-2.06-.94 2.06-2.06.94zm-11 1L8.5 8.5l.94-2.06 2.06-.94-2.06-.94L8.5 2.5l-.94 2.06-2.06.94zm10 10l.94 2.06.94-2.06 2.06-.94-2.06-.94-.94-2.06-.94 2.06-2.06.94z\"/><path d=\"M17.41 7.96l-1.37-1.37c-.4-.4-.92-.59-1.43-.59-.52 0-1.04.2-1.43.59L10.3 9.45l-7.72 7.72c-.78.78-.78 2.05 0 2.83L4 21.41c.39.39.9.59 1.41.59.51 0 1.02-.2 1.41-.59l7.78-7.78 2.81-2.81c.8-.78.8-2.07 0-2.86zM5.41 20L4 18.59l7.72-7.72 1.47 1.35L5.41 20z\"/>\n",
              "  </svg>\n",
              "      </button>\n",
              "      \n",
              "  <style>\n",
              "    .colab-df-container {\n",
              "      display:flex;\n",
              "      flex-wrap:wrap;\n",
              "      gap: 12px;\n",
              "    }\n",
              "\n",
              "    .colab-df-convert {\n",
              "      background-color: #E8F0FE;\n",
              "      border: none;\n",
              "      border-radius: 50%;\n",
              "      cursor: pointer;\n",
              "      display: none;\n",
              "      fill: #1967D2;\n",
              "      height: 32px;\n",
              "      padding: 0 0 0 0;\n",
              "      width: 32px;\n",
              "    }\n",
              "\n",
              "    .colab-df-convert:hover {\n",
              "      background-color: #E2EBFA;\n",
              "      box-shadow: 0px 1px 2px rgba(60, 64, 67, 0.3), 0px 1px 3px 1px rgba(60, 64, 67, 0.15);\n",
              "      fill: #174EA6;\n",
              "    }\n",
              "\n",
              "    [theme=dark] .colab-df-convert {\n",
              "      background-color: #3B4455;\n",
              "      fill: #D2E3FC;\n",
              "    }\n",
              "\n",
              "    [theme=dark] .colab-df-convert:hover {\n",
              "      background-color: #434B5C;\n",
              "      box-shadow: 0px 1px 3px 1px rgba(0, 0, 0, 0.15);\n",
              "      filter: drop-shadow(0px 1px 2px rgba(0, 0, 0, 0.3));\n",
              "      fill: #FFFFFF;\n",
              "    }\n",
              "  </style>\n",
              "\n",
              "      <script>\n",
              "        const buttonEl =\n",
              "          document.querySelector('#df-3d1c8ec9-98a6-434c-bf1d-f0cf9f4c66d8 button.colab-df-convert');\n",
              "        buttonEl.style.display =\n",
              "          google.colab.kernel.accessAllowed ? 'block' : 'none';\n",
              "\n",
              "        async function convertToInteractive(key) {\n",
              "          const element = document.querySelector('#df-3d1c8ec9-98a6-434c-bf1d-f0cf9f4c66d8');\n",
              "          const dataTable =\n",
              "            await google.colab.kernel.invokeFunction('convertToInteractive',\n",
              "                                                     [key], {});\n",
              "          if (!dataTable) return;\n",
              "\n",
              "          const docLinkHtml = 'Like what you see? Visit the ' +\n",
              "            '<a target=\"_blank\" href=https://colab.research.google.com/notebooks/data_table.ipynb>data table notebook</a>'\n",
              "            + ' to learn more about interactive tables.';\n",
              "          element.innerHTML = '';\n",
              "          dataTable['output_type'] = 'display_data';\n",
              "          await google.colab.output.renderOutput(dataTable, element);\n",
              "          const docLink = document.createElement('div');\n",
              "          docLink.innerHTML = docLinkHtml;\n",
              "          element.appendChild(docLink);\n",
              "        }\n",
              "      </script>\n",
              "    </div>\n",
              "  </div>\n",
              "  "
            ]
          },
          "metadata": {}
        }
      ]
    },
    {
      "cell_type": "code",
      "execution_count": 16,
      "id": "155ca420-02e6-4e98-a7da-60001aaceaa7",
      "metadata": {
        "colab": {
          "base_uri": "https://localhost:8080/",
          "height": 406
        },
        "id": "155ca420-02e6-4e98-a7da-60001aaceaa7",
        "outputId": "81c21b2c-0844-43bf-89a5-3696aad3944c"
      },
      "outputs": [
        {
          "output_type": "display_data",
          "data": {
            "text/plain": [
              "<Figure size 864x432 with 1 Axes>"
            ],
            "image/png": "[encoded data removed]"
          },
          "metadata": {
            "needs_background": "light"
          }
        }
      ],
      "source": [
        "\n",
        "p=[10, 20, 40, 60, 80, 100, 120, 140, 160, 180, 200]\n",
        "plt.rcParams.update({'font.size':20})\n",
        "fig,ax = plt.subplots(figsize =(12,6))\n",
        "#ax.set_title('Latência para Ethereum Provider por vCPU')\n",
        "ax.set_xlabel('Carga (tps)')\n",
        "ax.set_ylabel('Custo($) x Latência')\n",
        "ax.plot(p,df_max_scaled['Small'],marker=\"^\", label=\"Small\")\n",
        "ax.plot(p,df_max_scaled['Medium'],marker=\"*\", label=\"Medium\")\n",
        "ax.plot(p,df_max_scaled['xLarge'],marker=\"+\", label=\"xLarge\")\n",
        "ax.set_xlim(0, 210)\n",
        "plt.xticks(p)\n",
        "plt.legend()\n",
        "plt.legend()\n",
        "plt.savefig('grafico_custos_HyperLd.pdf')\n",
        "plt.show()"
      ]
    },
    {
      "cell_type": "code",
      "execution_count": 17,
      "id": "11654e38-6ff1-43db-af1a-af5790e7a64f",
      "metadata": {
        "id": "11654e38-6ff1-43db-af1a-af5790e7a64f"
      },
      "outputs": [],
      "source": [
        "monitorS = pd.read_csv('/content/drive/MyDrive/sbrc2023/small/TxMonitor-vm'+vm+'-cluster2_small.csv')\n",
        "monitorM = pd.read_csv('/content/drive/MyDrive/sbrc2023/medium/TxMonitor-vm'+vm+'-cluster2_medium.csv')\n",
        "monitorL = pd.read_csv('/content/drive/MyDrive/sbrc2023/xlarge/TxMonitor-vm'+vm+'-cluster2_xlarge.csv')"
      ]
    },
    {
      "cell_type": "code",
      "execution_count": 18,
      "id": "6c6ed470-86d1-4493-980c-a829cb250ac5",
      "metadata": {
        "id": "6c6ed470-86d1-4493-980c-a829cb250ac5"
      },
      "outputs": [],
      "source": [
        "def filtro_cpu_mem(vm):\n",
        "  vm__cpu_mean = []\n",
        "  vm__cpu_erro = []\n",
        "  vm_cpu_filtro = []\n",
        "  cpu = []\n",
        "  for i in range(1,12):\n",
        "      l_round_x = vm.query('round==%s'%i)\n",
        "      cpu = l_round_x['cpu(%)']\n",
        "      vm_cpu_filtro.append(cpu.tolist())\n",
        "      cpu_mean = np.mean(cpu)\n",
        "      cpu_erro = st.t.interval(0.05, len(cpu)-1, loc=np.mean(cpu), scale=st.sem(cpu))\n",
        "      vm__cpu_mean.append(cpu_mean)\n",
        "      vm__cpu_erro.append(cpu_erro[1] - cpu_erro[0])\n",
        "  return vm_cpu_filtro"
      ]
    },
    {
      "cell_type": "code",
      "execution_count": 19,
      "id": "621b0910-e9c6-4828-8235-45f49de2bf48",
      "metadata": {
        "id": "621b0910-e9c6-4828-8235-45f49de2bf48"
      },
      "outputs": [],
      "source": [
        "vmS_cpu = filtro_cpu_mem(monitorS)\n",
        "vmM_cpu = filtro_cpu_mem(monitorM)\n",
        "vmL_cpu = filtro_cpu_mem(monitorL)"
      ]
    },
    {
      "cell_type": "code",
      "execution_count": 20,
      "id": "3a25c0b2-3ee0-4701-bf14-67164d0a3dd7",
      "metadata": {
        "id": "3a25c0b2-3ee0-4701-bf14-67164d0a3dd7"
      },
      "outputs": [],
      "source": [
        "def grafico(filtro,txt1,txt2,y,ytick,type=0,outfile=0):\n",
        "    x = [10, 20, 40, 60, 80, 100, 120, 140, 160, 180, 200]\n",
        "    plt.rcParams.update({'font.size':20})\n",
        "    fig,ax = plt.subplots(figsize =(12,6))\n",
        "    ax.set_xlabel(txt2)\n",
        "    ax.set_ylabel(txt1)\n",
        "    if(type==1): # net MBytes/seg.\n",
        "      ax.set_ylim(0, 10)\n",
        "      ax.set_yticks(range(0, 11, 2))\n",
        "    else:\n",
        "      ax.set_ylim(-3, 110)    \n",
        "      ax.set_yticks(range(0, 110, 20))\n",
        "    ax.boxplot(filtro, widths=10 ,labels=x, positions=p)\n",
        "    plt.yticks(ytick)\n",
        "    return plt"
      ]
    },
    {
      "cell_type": "code",
      "execution_count": 21,
      "id": "8eae33b5-0cb3-4877-8032-657b29f84bfb",
      "metadata": {
        "colab": {
          "base_uri": "https://localhost:8080/",
          "height": 406
        },
        "id": "8eae33b5-0cb3-4877-8032-657b29f84bfb",
        "outputId": "65ae0d54-3ef1-4ed4-f0b2-a86c70d88396"
      },
      "outputs": [
        {
          "output_type": "display_data",
          "data": {
            "text/plain": [
              "<Figure size 864x432 with 1 Axes>"
            ],
            "image/png": "[encoded data removed]"
          },
          "metadata": {
            "needs_background": "light"
          }
        }
      ],
      "source": [
        "plt1_cpu = grafico(vmS_cpu,'CPU(%)','Carga (tps)',vazS,[0,10, 20,30,40,50, 60,70, 80,90, 100])\n",
        "plt1_cpu.savefig('grafico_Hyperld_vm'+vm+'_CPU_Small.pdf')"
      ]
    },
    {
      "cell_type": "code",
      "execution_count": 22,
      "id": "6110014e-2656-471d-86f4-fefb0f6a7d9a",
      "metadata": {
        "colab": {
          "base_uri": "https://localhost:8080/",
          "height": 406
        },
        "id": "6110014e-2656-471d-86f4-fefb0f6a7d9a",
        "outputId": "10d44c54-a167-445d-e5f1-7bc1974d3874"
      },
      "outputs": [
        {
          "output_type": "display_data",
          "data": {
            "text/plain": [
              "<Figure size 864x432 with 1 Axes>"
            ],
            "image/png": "[encoded data removed]"
          },
          "metadata": {
            "needs_background": "light"
          }
        }
      ],
      "source": [
        "plt1_cpu = grafico(vmM_cpu,'CPU(%)','Carga (tps)',vazM,[0,10, 20,30,40,50, 60,70, 80,90, 100])\n",
        "plt1_cpu.savefig('grafico_Hyperld_vm'+vm+'_CPU_Medium.pdf')"
      ]
    },
    {
      "cell_type": "code",
      "execution_count": 23,
      "id": "0a9a1a6f-8ddd-4b16-84bd-e4ae1566ba87",
      "metadata": {
        "colab": {
          "base_uri": "https://localhost:8080/",
          "height": 406
        },
        "id": "0a9a1a6f-8ddd-4b16-84bd-e4ae1566ba87",
        "outputId": "437e01d6-fa70-48ed-c6aa-22fd8b2b5e2a"
      },
      "outputs": [
        {
          "output_type": "display_data",
          "data": {
            "text/plain": [
              "<Figure size 864x432 with 1 Axes>"
            ],
            "image/png": "[encoded data removed]"
          },
          "metadata": {
            "needs_background": "light"
          }
        }
      ],
      "source": [
        "plt1_cpu = grafico(vmL_cpu,'CPU(%)','Carga (tps)',vazL,[0,10, 20,30,40,50, 60,70, 80,90, 100])\n",
        "plt1_cpu.savefig('grafico_Hyperld_vm'+vm+'_Xlarge.pdf')"
      ]
    }
  ],
  "metadata": {
    "kernelspec": {
      "display_name": "Python 3 (ipykernel)",
      "language": "python",
      "name": "python3"
    },
    "language_info": {
      "codemirror_mode": {
        "name": "ipython",
        "version": 3
      },
      "file_extension": ".py",
      "mimetype": "text/x-python",
      "name": "python",
      "nbconvert_exporter": "python",
      "pygments_lexer": "ipython3",
      "version": "3.9.7"
    },
    "colab": {
      "provenance": []
    }
  },
  "nbformat": 4,
  "nbformat_minor": 5
}