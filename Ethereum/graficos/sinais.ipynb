{
 "cells": [
  {
   "cell_type": "code",
   "execution_count": 1,
   "id": "6aa4c067-11b6-4539-a2f6-fbe553ba16aa",
   "metadata": {},
   "outputs": [],
   "source": [
    "import matplotlib.pyplot as plt\n",
    "import matplotlib.patches as mpatches\n",
    "import pandas as pd\n",
    "import numpy as np, scipy.stats as st"
   ]
  },
  {
   "cell_type": "code",
   "execution_count": 2,
   "id": "7e367adb-e1f4-45f6-b413-0df9479cebb0",
   "metadata": {},
   "outputs": [
    {
     "data": {
      "text/html": [
       "<div>\n",
       "<style scoped>\n",
       "    .dataframe tbody tr th:only-of-type {\n",
       "        vertical-align: middle;\n",
       "    }\n",
       "\n",
       "    .dataframe tbody tr th {\n",
       "        vertical-align: top;\n",
       "    }\n",
       "\n",
       "    .dataframe thead th {\n",
       "        text-align: right;\n",
       "    }\n",
       "</style>\n",
       "<table border=\"1\" class=\"dataframe\">\n",
       "  <thead>\n",
       "    <tr style=\"text-align: right;\">\n",
       "      <th></th>\n",
       "      <th>Name</th>\n",
       "      <th>Succ</th>\n",
       "      <th>Fail</th>\n",
       "      <th>SendRate(TPS)</th>\n",
       "      <th>MaxLatency(s)</th>\n",
       "      <th>MinLatency(s)</th>\n",
       "      <th>AvgLatency(s)</th>\n",
       "      <th>Throughput(TPS)</th>\n",
       "    </tr>\n",
       "  </thead>\n",
       "  <tbody>\n",
       "    <tr>\n",
       "      <th>0</th>\n",
       "      <td>addInfo01</td>\n",
       "      <td>61</td>\n",
       "      <td>0</td>\n",
       "      <td>10.1</td>\n",
       "      <td>6.98</td>\n",
       "      <td>2.10</td>\n",
       "      <td>4.84</td>\n",
       "      <td>5.2</td>\n",
       "    </tr>\n",
       "    <tr>\n",
       "      <th>1</th>\n",
       "      <td>addInfo02</td>\n",
       "      <td>61</td>\n",
       "      <td>0</td>\n",
       "      <td>10.2</td>\n",
       "      <td>6.95</td>\n",
       "      <td>2.06</td>\n",
       "      <td>4.85</td>\n",
       "      <td>5.1</td>\n",
       "    </tr>\n",
       "    <tr>\n",
       "      <th>2</th>\n",
       "      <td>addInfo03</td>\n",
       "      <td>61</td>\n",
       "      <td>0</td>\n",
       "      <td>10.2</td>\n",
       "      <td>6.96</td>\n",
       "      <td>2.06</td>\n",
       "      <td>4.87</td>\n",
       "      <td>5.1</td>\n",
       "    </tr>\n",
       "    <tr>\n",
       "      <th>3</th>\n",
       "      <td>addInfo04</td>\n",
       "      <td>61</td>\n",
       "      <td>0</td>\n",
       "      <td>10.2</td>\n",
       "      <td>6.99</td>\n",
       "      <td>2.09</td>\n",
       "      <td>4.88</td>\n",
       "      <td>5.1</td>\n",
       "    </tr>\n",
       "    <tr>\n",
       "      <th>4</th>\n",
       "      <td>addInfo05</td>\n",
       "      <td>61</td>\n",
       "      <td>0</td>\n",
       "      <td>10.2</td>\n",
       "      <td>7.01</td>\n",
       "      <td>2.12</td>\n",
       "      <td>4.91</td>\n",
       "      <td>5.1</td>\n",
       "    </tr>\n",
       "    <tr>\n",
       "      <th>...</th>\n",
       "      <td>...</td>\n",
       "      <td>...</td>\n",
       "      <td>...</td>\n",
       "      <td>...</td>\n",
       "      <td>...</td>\n",
       "      <td>...</td>\n",
       "      <td>...</td>\n",
       "      <td>...</td>\n",
       "    </tr>\n",
       "    <tr>\n",
       "      <th>105</th>\n",
       "      <td>addInfo06</td>\n",
       "      <td>1201</td>\n",
       "      <td>0</td>\n",
       "      <td>200.2</td>\n",
       "      <td>8.40</td>\n",
       "      <td>2.39</td>\n",
       "      <td>5.79</td>\n",
       "      <td>101.4</td>\n",
       "    </tr>\n",
       "    <tr>\n",
       "      <th>106</th>\n",
       "      <td>addInfo07</td>\n",
       "      <td>1201</td>\n",
       "      <td>0</td>\n",
       "      <td>200.2</td>\n",
       "      <td>8.54</td>\n",
       "      <td>2.38</td>\n",
       "      <td>5.78</td>\n",
       "      <td>101.6</td>\n",
       "    </tr>\n",
       "    <tr>\n",
       "      <th>107</th>\n",
       "      <td>addInfo08</td>\n",
       "      <td>1201</td>\n",
       "      <td>0</td>\n",
       "      <td>200.2</td>\n",
       "      <td>8.57</td>\n",
       "      <td>2.39</td>\n",
       "      <td>5.78</td>\n",
       "      <td>101.5</td>\n",
       "    </tr>\n",
       "    <tr>\n",
       "      <th>108</th>\n",
       "      <td>addInfo09</td>\n",
       "      <td>1198</td>\n",
       "      <td>0</td>\n",
       "      <td>199.7</td>\n",
       "      <td>8.58</td>\n",
       "      <td>2.33</td>\n",
       "      <td>5.76</td>\n",
       "      <td>101.6</td>\n",
       "    </tr>\n",
       "    <tr>\n",
       "      <th>109</th>\n",
       "      <td>addInfo10</td>\n",
       "      <td>1201</td>\n",
       "      <td>0</td>\n",
       "      <td>200.2</td>\n",
       "      <td>8.67</td>\n",
       "      <td>2.38</td>\n",
       "      <td>5.81</td>\n",
       "      <td>102.3</td>\n",
       "    </tr>\n",
       "  </tbody>\n",
       "</table>\n",
       "<p>110 rows × 8 columns</p>\n",
       "</div>"
      ],
      "text/plain": [
       "          Name  Succ  Fail  SendRate(TPS)  MaxLatency(s)  MinLatency(s)  \\\n",
       "0    addInfo01    61     0           10.1           6.98           2.10   \n",
       "1    addInfo02    61     0           10.2           6.95           2.06   \n",
       "2    addInfo03    61     0           10.2           6.96           2.06   \n",
       "3    addInfo04    61     0           10.2           6.99           2.09   \n",
       "4    addInfo05    61     0           10.2           7.01           2.12   \n",
       "..         ...   ...   ...            ...            ...            ...   \n",
       "105  addInfo06  1201     0          200.2           8.40           2.39   \n",
       "106  addInfo07  1201     0          200.2           8.54           2.38   \n",
       "107  addInfo08  1201     0          200.2           8.57           2.39   \n",
       "108  addInfo09  1198     0          199.7           8.58           2.33   \n",
       "109  addInfo10  1201     0          200.2           8.67           2.38   \n",
       "\n",
       "     AvgLatency(s)  Throughput(TPS)  \n",
       "0             4.84              5.2  \n",
       "1             4.85              5.1  \n",
       "2             4.87              5.1  \n",
       "3             4.88              5.1  \n",
       "4             4.91              5.1  \n",
       "..             ...              ...  \n",
       "105           5.79            101.4  \n",
       "106           5.78            101.6  \n",
       "107           5.78            101.5  \n",
       "108           5.76            101.6  \n",
       "109           5.81            102.3  \n",
       "\n",
       "[110 rows x 8 columns]"
      ]
     },
     "execution_count": 2,
     "metadata": {},
     "output_type": "execute_result"
    }
   ],
   "source": [
    "caliperS = pd.read_csv('caliperSmall.csv')\n",
    "caliperM = pd.read_csv('caliperMedium.csv')\n",
    "caliperL = pd.read_csv('caliperXLargex.csv')\n",
    "caliperL"
   ]
  },
  {
   "cell_type": "code",
   "execution_count": 3,
   "id": "f5bb525e-d21e-4b5d-8093-aa5e7d6a20fd",
   "metadata": {},
   "outputs": [
    {
     "name": "stdout",
     "output_type": "stream",
     "text": [
      "[5.12, 10.13, 20.22, 30.39, 40.5, 50.7, 58.92, 68.61, 76.72, 84.77, 80.56]\n",
      "[5.11, 10.07, 20.05, 30.19, 40.31, 50.59, 60.73, 70.83, 81.21, 90.83, 101.15]\n",
      "[5.11, 10.18, 20.3, 30.42, 40.55, 50.76, 50.76, 71.05, 81.09, 91.16, 101.25]\n"
     ]
    }
   ],
   "source": [
    "vazS = []\n",
    "rdns = caliperS['Throughput(TPS)']\n",
    "partes = [rdns[index : index + 10] for index in range(0, len(rdns), 10)]\n",
    "for i in partes:\n",
    "  vazS.append(np.mean(i))\n",
    "print([ float(\"%.02f\" % x) for x in vazS])\n",
    "\n",
    "vazM = []\n",
    "rdns = caliperM['Throughput(TPS)']\n",
    "partes = [rdns[index : index + 10] for index in range(0, len(rdns), 10)]\n",
    "for i in partes:\n",
    "  vazM.append(np.mean(i))\n",
    "print([ float(\"%.02f\" % x) for x in vazM])\n",
    "\n",
    "vazL = []\n",
    "rdns = caliperL['Throughput(TPS)']\n",
    "partes = [rdns[index : index + 10] for index in range(0, len(rdns), 10)]\n",
    "for i in partes:\n",
    "  vazL.append(np.mean(i))\n",
    "print([ float(\"%.02f\" % x) for x in vazL])\n"
   ]
  },
  {
   "cell_type": "code",
   "execution_count": 4,
   "id": "a87335e4-668c-4ea3-a9cf-a5db8c57e0d8",
   "metadata": {},
   "outputs": [
    {
     "name": "stdout",
     "output_type": "stream",
     "text": [
      "[7.37, 7.35, 7.47, 7.64, 7.98, 8.27, 8.84, 9.06, 9.56, 10.28, 10.7]\n",
      "[7.25, 7.28, 7.35, 7.46, 7.59, 7.72, 7.89, 8.14, 8.35, 8.65, 8.8]\n",
      "[7.31, 7.32, 7.35, 7.44, 7.58, 7.79, 7.79, 8.26, 8.53, 8.75, 8.74]\n"
     ]
    }
   ],
   "source": [
    "latS = []\n",
    "rdns = caliperS['AvgLatency(s)']\n",
    "partes = [rdns[index : index + 10] for index in range(0, len(rdns), 10)]\n",
    "for i in partes:\n",
    "  latS.append(float(np.mean(i+i/2)))\n",
    "print([ float(\"%.02f\" % x) for x in latS])\n",
    "\n",
    "latM = []\n",
    "rdns = caliperM['AvgLatency(s)']\n",
    "partes = [rdns[index : index + 10] for index in range(0, len(rdns), 10)]\n",
    "for i in partes:\n",
    "  latM.append(float(np.mean(i+i/2)))\n",
    "print([ float(\"%.02f\" % x) for x in latM])\n",
    "\n",
    "latL = []\n",
    "rdns = caliperL['AvgLatency(s)']\n",
    "partes = [rdns[index : index + 10] for index in range(0, len(rdns), 10)]\n",
    "for i in partes:\n",
    "  latL.append(float(np.mean(i+i/2)))\n",
    "print([ float(\"%.02f\" % x) for x in latL])"
   ]
  },
  {
   "cell_type": "code",
   "execution_count": 5,
   "id": "c80a0f12-115a-4627-93d3-14bd7974a9e6",
   "metadata": {},
   "outputs": [],
   "source": [
    "obj1 = {'Small': [7.37, 7.35, 7.47, 7.64, 7.98, 8.27, 8.84, 9.06, 9.56, 10.28, 10.7],\n",
    "       'Medium':[7.25, 7.28, 7.35, 7.46, 7.59, 7.72, 7.89, 8.14, 8.35, 8.65, 8.8],\n",
    "       'xLarge':[7.31, 7.32, 7.35, 7.44, 7.58, 7.79, 7.79, 8.26, 8.53, 8.75, 8.74]}\n",
    "df1 = pd.DataFrame(data=obj1)"
   ]
  },
  {
   "cell_type": "code",
   "execution_count": 6,
   "id": "93b4c134-c25a-43b7-9b2b-59e96015bef2",
   "metadata": {},
   "outputs": [
    {
     "data": {
      "text/plain": [
       "0    45.721871\n",
       "dtype: float64"
      ]
     },
     "execution_count": 6,
     "metadata": {},
     "output_type": "execute_result"
    }
   ],
   "source": [
    "dfg = pd.DataFrame(latS)\n",
    "maior = dfg.abs().max()\n",
    "menor = dfg.abs().min() \n",
    "diferença = ((maior - menor))\n",
    "diferençaPor = ((maior - menor) / menor)*100\n",
    "diferençaPor"
   ]
  },
  {
   "cell_type": "code",
   "execution_count": 7,
   "id": "1e204638-8e6c-43ee-ae79-6d3d05e3eabe",
   "metadata": {},
   "outputs": [
    {
     "data": {
      "text/plain": [
       "22.285714285714278"
      ]
     },
     "execution_count": 7,
     "metadata": {},
     "output_type": "execute_result"
    }
   ],
   "source": [
    "maior = df1.abs().max().max()\n",
    "menor = df1.abs().max().min() \n",
    "diferença = ((maior - menor) / menor)*100\n",
    "diferença"
   ]
  },
  {
   "cell_type": "code",
   "execution_count": 8,
   "id": "546b5e29-969f-4b3a-89e4-6cee4c5d6b79",
   "metadata": {},
   "outputs": [],
   "source": [
    "maquinas=(\"small\",\"medium\",\"large\")"
   ]
  },
  {
   "cell_type": "code",
   "execution_count": 10,
   "id": "09a67184-9947-4420-aed9-aee5ef335418",
   "metadata": {},
   "outputs": [
    {
     "data": {
      "image/png": "[encoded data removed]",
      "text/plain": [
       "<Figure size 864x432 with 1 Axes>"
      ]
     },
     "metadata": {
      "needs_background": "light"
     },
     "output_type": "display_data"
    }
   ],
   "source": [
    "p=[10, 20, 40, 60, 80, 100, 120, 140, 160, 180, 200]\n",
    "plt.rcParams.update({'font.size':20})\n",
    "fig,ax = plt.subplots(figsize =(12,6))\n",
    "#ax.set_title('Latência para Ethereum Provider por vCPU')\n",
    "ax.set_xlabel('Carga (tps)')\n",
    "ax.set_ylabel('Latência (s)')\n",
    "ax.plot(p,latS,marker=\"^\", label=\"Small\")\n",
    "ax.plot(p,latM,marker=\"*\", label=\"Medium\")\n",
    "ax.plot(p,latL,marker=\"+\", label=\"xLarge\")\n",
    "ax.set_ylim(0, 12)\n",
    "ax.set_xlim(0, 210)\n",
    "plt.xticks(p)\n",
    "plt.grid()\n",
    "plt.legend()\n",
    "plt.legend()\n",
    "plt.savefig('latencia_Eth.pdf')\n",
    "plt.show()"
   ]
  },
  {
   "cell_type": "code",
   "execution_count": 11,
   "id": "9647b85e-c114-4b7f-bce1-5706ca174a0c",
   "metadata": {},
   "outputs": [
    {
     "name": "stdout",
     "output_type": "stream",
     "text": [
      "[0.17, 0.17, 0.17, 0.18, 0.18, 0.19, 0.2, 0.21, 0.22, 0.24, 0.25]\n",
      "[0.34, 0.34, 0.34, 0.35, 0.35, 0.36, 0.37, 0.38, 0.39, 0.4, 0.41]\n",
      "[1.36, 1.36, 1.36, 1.38, 1.41, 1.45, 1.45, 1.53, 1.58, 1.62, 1.62]\n"
     ]
    }
   ],
   "source": [
    "custo = (0.02300, 0.0464, 0.1856)\n",
    "tradeoffS = []\n",
    "tradeoffM = []\n",
    "tradeoffL = []\n",
    "for i in range(0,11):\n",
    "    tradeoffS.append(latS[i] * custo[0])\n",
    "    tradeoffM.append(latM[i] * custo[1])\n",
    "    tradeoffL.append(latL[i] * custo[2])\n",
    "print([ float(\"%.02f\" % x) for x in tradeoffS])\n",
    "print([ float(\"%.02f\" % x) for x in tradeoffM])\n",
    "print([ float(\"%.02f\" % x) for x in tradeoffL])"
   ]
  },
  {
   "cell_type": "code",
   "execution_count": 12,
   "id": "7f010dd9-3d66-403a-a17f-71b73cfb0e2e",
   "metadata": {},
   "outputs": [],
   "source": [
    "Small = (0.112, 0.112, 0.128, 0.153, 0.183, 0.202, 0.222, 0.239, 0.249, 0.256, 0.261)\n",
    "Medium = (0.226, 0.226, 0.235, 0.269, 0.299, 0.341, 0.368, 0.387, 0.415, 0.430, 0.454)\n",
    "xLarge = (0.901, 0.903, 0.968, 1.036, 1.153, 1.286, 1.441, 1.558, 1.647, 1.700, 1.806)"
   ]
  },
  {
   "cell_type": "code",
   "execution_count": 13,
   "id": "6f2f5ddf-991f-4006-8da5-dc6fe5ced5aa",
   "metadata": {},
   "outputs": [
    {
     "data": {
      "text/html": [
       "<div>\n",
       "<style scoped>\n",
       "    .dataframe tbody tr th:only-of-type {\n",
       "        vertical-align: middle;\n",
       "    }\n",
       "\n",
       "    .dataframe tbody tr th {\n",
       "        vertical-align: top;\n",
       "    }\n",
       "\n",
       "    .dataframe thead th {\n",
       "        text-align: right;\n",
       "    }\n",
       "</style>\n",
       "<table border=\"1\" class=\"dataframe\">\n",
       "  <thead>\n",
       "    <tr style=\"text-align: right;\">\n",
       "      <th></th>\n",
       "      <th>Small</th>\n",
       "      <th>Medium</th>\n",
       "      <th>xLarge</th>\n",
       "    </tr>\n",
       "  </thead>\n",
       "  <tbody>\n",
       "    <tr>\n",
       "      <th>0</th>\n",
       "      <td>0.062016</td>\n",
       "      <td>0.125138</td>\n",
       "      <td>0.498893</td>\n",
       "    </tr>\n",
       "    <tr>\n",
       "      <th>1</th>\n",
       "      <td>0.062016</td>\n",
       "      <td>0.125138</td>\n",
       "      <td>0.500000</td>\n",
       "    </tr>\n",
       "    <tr>\n",
       "      <th>2</th>\n",
       "      <td>0.070875</td>\n",
       "      <td>0.130122</td>\n",
       "      <td>0.535991</td>\n",
       "    </tr>\n",
       "    <tr>\n",
       "      <th>3</th>\n",
       "      <td>0.084718</td>\n",
       "      <td>0.148948</td>\n",
       "      <td>0.573643</td>\n",
       "    </tr>\n",
       "    <tr>\n",
       "      <th>4</th>\n",
       "      <td>0.101329</td>\n",
       "      <td>0.165559</td>\n",
       "      <td>0.638427</td>\n",
       "    </tr>\n",
       "    <tr>\n",
       "      <th>5</th>\n",
       "      <td>0.111849</td>\n",
       "      <td>0.188815</td>\n",
       "      <td>0.712071</td>\n",
       "    </tr>\n",
       "    <tr>\n",
       "      <th>6</th>\n",
       "      <td>0.122924</td>\n",
       "      <td>0.203765</td>\n",
       "      <td>0.797896</td>\n",
       "    </tr>\n",
       "    <tr>\n",
       "      <th>7</th>\n",
       "      <td>0.132337</td>\n",
       "      <td>0.214286</td>\n",
       "      <td>0.862680</td>\n",
       "    </tr>\n",
       "    <tr>\n",
       "      <th>8</th>\n",
       "      <td>0.137874</td>\n",
       "      <td>0.229790</td>\n",
       "      <td>0.911960</td>\n",
       "    </tr>\n",
       "    <tr>\n",
       "      <th>9</th>\n",
       "      <td>0.141750</td>\n",
       "      <td>0.238095</td>\n",
       "      <td>0.941307</td>\n",
       "    </tr>\n",
       "    <tr>\n",
       "      <th>10</th>\n",
       "      <td>0.144518</td>\n",
       "      <td>0.251384</td>\n",
       "      <td>1.000000</td>\n",
       "    </tr>\n",
       "  </tbody>\n",
       "</table>\n",
       "</div>"
      ],
      "text/plain": [
       "       Small    Medium    xLarge\n",
       "0   0.062016  0.125138  0.498893\n",
       "1   0.062016  0.125138  0.500000\n",
       "2   0.070875  0.130122  0.535991\n",
       "3   0.084718  0.148948  0.573643\n",
       "4   0.101329  0.165559  0.638427\n",
       "5   0.111849  0.188815  0.712071\n",
       "6   0.122924  0.203765  0.797896\n",
       "7   0.132337  0.214286  0.862680\n",
       "8   0.137874  0.229790  0.911960\n",
       "9   0.141750  0.238095  0.941307\n",
       "10  0.144518  0.251384  1.000000"
      ]
     },
     "metadata": {},
     "output_type": "display_data"
    }
   ],
   "source": [
    "obj = {'Small': [0.112, 0.112, 0.128, 0.153, 0.183, 0.202, 0.222, 0.239, 0.249, 0.256, 0.261],\n",
    "       'Medium':[0.226, 0.226, 0.235, 0.269, 0.299, 0.341, 0.368, 0.387, 0.415, 0.430, 0.454],\n",
    "       'xLarge':[0.901, 0.903, 0.968, 1.036, 1.153, 1.286, 1.441, 1.558, 1.647, 1.700, 1.806]}\n",
    "df = pd.DataFrame(data=obj)\n",
    "df_max_scaled = df.copy() \n",
    "for column in df_max_scaled.columns: \n",
    "    df_max_scaled[column] = df_max_scaled[column]  / df.abs().max().max() \n",
    "display(df_max_scaled)"
   ]
  },
  {
   "cell_type": "code",
   "execution_count": null,
   "id": "e8563213-52a5-4a03-9d83-4bdf6cb4888f",
   "metadata": {},
   "outputs": [],
   "source": [
    "\n"
   ]
  },
  {
   "cell_type": "code",
   "execution_count": 15,
   "id": "155ca420-02e6-4e98-a7da-60001aaceaa7",
   "metadata": {},
   "outputs": [
    {
     "data": {
      "image/png": "[encoded data removed]",
      "text/plain": [
       "<Figure size 864x432 with 1 Axes>"
      ]
     },
     "metadata": {
      "needs_background": "light"
     },
     "output_type": "display_data"
    }
   ],
   "source": [
    "p=[10, 20, 40, 60, 80, 100, 120, 140, 160, 180, 200]\n",
    "plt.rcParams.update({'font.size':20})\n",
    "fig,ax = plt.subplots(figsize =(12,6))\n",
    "#ax.set_title('Latência para Ethereum Provider por vCPU')\n",
    "ax.set_xlabel('Carga (tps)')\n",
    "ax.set_ylabel('Custo($) x Latência')\n",
    "ax.plot(p,df_max_scaled['Small'],marker=\"^\", label=\"Small\")\n",
    "ax.plot(p,df_max_scaled['Medium'],marker=\"*\", label=\"Medium\")\n",
    "ax.plot(p,df_max_scaled['xLarge'],marker=\"+\", label=\"xLarge\")\n",
    "ax.set_xlim(0, 210)\n",
    "plt.xticks(p)\n",
    "plt.grid()\n",
    "plt.legend()\n",
    "plt.legend()\n",
    "plt.savefig('grafico_custos_eth_3.pdf')\n",
    "plt.show()"
   ]
  },
  {
   "cell_type": "code",
   "execution_count": 16,
   "id": "11654e38-6ff1-43db-af1a-af5790e7a64f",
   "metadata": {},
   "outputs": [],
   "source": [
    "monitorS = pd.read_csv('TxMonitorValSmall.csv')\n",
    "monitorM = pd.read_csv('TxMonitorValMedium.csv')\n",
    "monitorL = pd.read_csv('TxMonitorValxLarge.csv')"
   ]
  },
  {
   "cell_type": "code",
   "execution_count": 17,
   "id": "6c6ed470-86d1-4493-980c-a829cb250ac5",
   "metadata": {},
   "outputs": [],
   "source": [
    "def filtro_cpu_mem(vm):\n",
    "  vm__cpu_mean = []\n",
    "  vm__cpu_erro = []\n",
    "  vm_cpu_filtro = []\n",
    "  cpu = []\n",
    "  for i in range(1,12):\n",
    "      l_round_x = vm.query('round==%s'%i)\n",
    "      cpu = l_round_x['cpu(%)']\n",
    "      vm_cpu_filtro.append(cpu.tolist())\n",
    "      cpu_mean = np.mean(cpu)\n",
    "      cpu_erro = st.t.interval(0.05, len(cpu)-1, loc=np.mean(cpu), scale=st.sem(cpu))\n",
    "      vm__cpu_mean.append(cpu_mean)\n",
    "      vm__cpu_erro.append(cpu_erro[1] - cpu_erro[0])\n",
    "  return vm_cpu_filtro"
   ]
  },
  {
   "cell_type": "code",
   "execution_count": 18,
   "id": "621b0910-e9c6-4828-8235-45f49de2bf48",
   "metadata": {},
   "outputs": [],
   "source": [
    "vmS_cpu = filtro_cpu_mem(monitorS)\n",
    "vmM_cpu = filtro_cpu_mem(monitorM)\n",
    "vmL_cpu = filtro_cpu_mem(monitorL)"
   ]
  },
  {
   "cell_type": "code",
   "execution_count": 19,
   "id": "3a25c0b2-3ee0-4701-bf14-67164d0a3dd7",
   "metadata": {},
   "outputs": [],
   "source": [
    "def grafico(filtro,txt1,txt2,y,ytick,type=0,outfile=0):\n",
    "    x = [10, 20, 40, 60, 80, 100, 120, 140, 160, 180, 200]\n",
    "    plt.rcParams.update({'font.size':20})\n",
    "    fig,ax = plt.subplots(figsize =(12,6))\n",
    "    ax.set_xlabel(txt2)\n",
    "    ax.set_ylabel(txt1)\n",
    "    if(type==1): # net MBytes/seg.\n",
    "      ax.set_ylim(0, 10)\n",
    "      ax.set_yticks(range(0, 11, 2))\n",
    "    else:\n",
    "      ax.set_ylim(-3, 110)    \n",
    "      ax.set_yticks(range(0, 110, 20))\n",
    "    ax.boxplot(filtro, widths=10 ,labels=x, positions=p)\n",
    "    plt.yticks(ytick)\n",
    "    plt.grid()\n",
    "    return plt"
   ]
  },
  {
   "cell_type": "code",
   "execution_count": 20,
   "id": "8eae33b5-0cb3-4877-8032-657b29f84bfb",
   "metadata": {},
   "outputs": [
    {
     "data": {
      "image/png": "[encoded data removed]",
      "text/plain": [
       "<Figure size 864x432 with 1 Axes>"
      ]
     },
     "metadata": {
      "needs_background": "light"
     },
     "output_type": "display_data"
    }
   ],
   "source": [
    "plt1_cpu = grafico(vmS_cpu,'CPU(%)','Carga (tps)',vazS,[0,10, 20,30,40,50, 60,70, 80,90, 100])\n",
    "plt1_cpu.savefig('Ethereum_CPU_Small.pdf')"
   ]
  },
  {
   "cell_type": "code",
   "execution_count": 21,
   "id": "6110014e-2656-471d-86f4-fefb0f6a7d9a",
   "metadata": {},
   "outputs": [
    {
     "data": {
      "image/png": "[encoded data removed]",
      "text/plain": [
       "<Figure size 864x432 with 1 Axes>"
      ]
     },
     "metadata": {
      "needs_background": "light"
     },
     "output_type": "display_data"
    }
   ],
   "source": [
    "plt1_cpu = grafico(vmM_cpu,'CPU(%)','Carga (tps)',vazM,[0,10, 20,30,40,50, 60,70, 80,90, 100])\n",
    "plt1_cpu.savefig('Ethereum_CPU_Medium.pdf')"
   ]
  },
  {
   "cell_type": "code",
   "execution_count": 22,
   "id": "0a9a1a6f-8ddd-4b16-84bd-e4ae1566ba87",
   "metadata": {},
   "outputs": [
    {
     "data": {
      "image/png": "[encoded data removed]",
      "text/plain": [
       "<Figure size 864x432 with 1 Axes>"
      ]
     },
     "metadata": {
      "needs_background": "light"
     },
     "output_type": "display_data"
    }
   ],
   "source": [
    "plt1_cpu = grafico(vmL_cpu,'CPU(%)','Carga (tps)',vazL,[0,10, 20,30,40,50, 60,70, 80,90, 100])\n",
    "plt1_cpu.savefig('Ethereum_CPU_Large.pdf')"
   ]
  },
  {
   "cell_type": "code",
   "execution_count": null,
   "id": "53d2185f-e06b-4390-9b6a-3bb48492d64f",
   "metadata": {},
   "outputs": [],
   "source": []
  },
  {
   "cell_type": "code",
   "execution_count": 23,
   "id": "2a5ccbac-2d0f-411d-82a7-6b4008b9835b",
   "metadata": {},
   "outputs": [],
   "source": [
    "def busca(alist, item):\n",
    "    pos = 0\n",
    "    found = False\n",
    "\n",
    "    while pos < len(alist) and not found:\n",
    "        if alist[pos] == item:\n",
    "            found = True\n",
    "        else:\n",
    "            pos = pos+1\n",
    "\n",
    "    return found"
   ]
  },
  {
   "cell_type": "code",
   "execution_count": 24,
   "id": "bee487ed-0d35-40ef-b581-7d0d848a366d",
   "metadata": {},
   "outputs": [
    {
     "name": "stdout",
     "output_type": "stream",
     "text": [
      "[5, 7, 32, 46, 53, 59]\n"
     ]
    }
   ],
   "source": [
    "from random import randint\n",
    "megasena = []\n",
    "for x in range(6):\n",
    "    valor = randint(1,60)\n",
    "    if busca(megasena,valor):\n",
    "       valor = randint(1,60)\n",
    "    megasena.append(valor)\n",
    "megasena.sort()\n",
    "print([ x for x in megasena])"
   ]
  },
  {
   "cell_type": "code",
   "execution_count": null,
   "id": "f5907a29-6c14-47d7-aaf6-005c35396d8d",
   "metadata": {},
   "outputs": [],
   "source": []
  },
  {
   "cell_type": "code",
   "execution_count": null,
   "id": "6dd8a5d0-6661-41c6-9511-420bdf853a6b",
   "metadata": {},
   "outputs": [],
   "source": []
  }
 ],
 "metadata": {
  "kernelspec": {
   "display_name": "Python 3 (ipykernel)",
   "language": "python",
   "name": "python3"
  },
  "language_info": {
   "codemirror_mode": {
    "name": "ipython",
    "version": 3
   },
   "file_extension": ".py",
   "mimetype": "text/x-python",
   "name": "python",
   "nbconvert_exporter": "python",
   "pygments_lexer": "ipython3",
   "version": "3.9.7"
  }
 },
 "nbformat": 4,
 "nbformat_minor": 5
}
